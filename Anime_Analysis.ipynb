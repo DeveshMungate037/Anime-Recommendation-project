{
 "cells": [
  {
   "cell_type": "code",
   "execution_count": 2,
   "metadata": {},
   "outputs": [],
   "source": [
    "import numpy as np\n",
    "import pandas as pd\n",
    "pd.plotting.register_matplotlib_converters()\n",
    "import seaborn as sns\n",
    "import matplotlib.pyplot as plt\n",
    "%matplotlib inline\n",
    "import re"
   ]
  },
  {
   "cell_type": "code",
   "execution_count": 3,
   "metadata": {},
   "outputs": [],
   "source": [
    "df = pd.read_csv('Anime.csv')"
   ]
  },
  {
   "cell_type": "code",
   "execution_count": 4,
   "metadata": {},
   "outputs": [
    {
     "data": {
      "text/html": [
       "<div>\n",
       "<style scoped>\n",
       "    .dataframe tbody tr th:only-of-type {\n",
       "        vertical-align: middle;\n",
       "    }\n",
       "\n",
       "    .dataframe tbody tr th {\n",
       "        vertical-align: top;\n",
       "    }\n",
       "\n",
       "    .dataframe thead th {\n",
       "        text-align: right;\n",
       "    }\n",
       "</style>\n",
       "<table border=\"1\" class=\"dataframe\">\n",
       "  <thead>\n",
       "    <tr style=\"text-align: right;\">\n",
       "      <th></th>\n",
       "      <th>ID</th>\n",
       "      <th>Title</th>\n",
       "      <th>Synonyms</th>\n",
       "      <th>Japanese</th>\n",
       "      <th>English</th>\n",
       "      <th>Synopsis</th>\n",
       "      <th>Type</th>\n",
       "      <th>Episodes</th>\n",
       "      <th>Status</th>\n",
       "      <th>Start_Aired</th>\n",
       "      <th>...</th>\n",
       "      <th>Themes</th>\n",
       "      <th>Demographics</th>\n",
       "      <th>Duration_Minutes</th>\n",
       "      <th>Rating</th>\n",
       "      <th>Score</th>\n",
       "      <th>Scored_Users</th>\n",
       "      <th>Ranked</th>\n",
       "      <th>Popularity</th>\n",
       "      <th>Members</th>\n",
       "      <th>Favorites</th>\n",
       "    </tr>\n",
       "  </thead>\n",
       "  <tbody>\n",
       "    <tr>\n",
       "      <th>0</th>\n",
       "      <td>16498</td>\n",
       "      <td>Shingeki no Kyojin</td>\n",
       "      <td>AoT, SnK</td>\n",
       "      <td>進撃の巨人</td>\n",
       "      <td>Attack on Titan</td>\n",
       "      <td>Centuries ago, mankind was slaughtered to near...</td>\n",
       "      <td>TV</td>\n",
       "      <td>25.0</td>\n",
       "      <td>Finished Airing</td>\n",
       "      <td>Apr 7, 2013</td>\n",
       "      <td>...</td>\n",
       "      <td>Gore, Military, Survival</td>\n",
       "      <td>Shounen</td>\n",
       "      <td>24.0</td>\n",
       "      <td>R - 17+ (violence &amp; profanity)</td>\n",
       "      <td>8.531</td>\n",
       "      <td>519803.0</td>\n",
       "      <td>1002.0</td>\n",
       "      <td>1</td>\n",
       "      <td>3524109</td>\n",
       "      <td>155695</td>\n",
       "    </tr>\n",
       "    <tr>\n",
       "      <th>1</th>\n",
       "      <td>1535</td>\n",
       "      <td>Death Note</td>\n",
       "      <td>DN</td>\n",
       "      <td>デスノート</td>\n",
       "      <td>Death Note</td>\n",
       "      <td>Brutal murders, petty thefts, and senseless vi...</td>\n",
       "      <td>TV</td>\n",
       "      <td>37.0</td>\n",
       "      <td>Finished Airing</td>\n",
       "      <td>Oct 4, 2006</td>\n",
       "      <td>...</td>\n",
       "      <td>Psychological</td>\n",
       "      <td>Shounen</td>\n",
       "      <td>23.0</td>\n",
       "      <td>R - 17+ (violence &amp; profanity)</td>\n",
       "      <td>8.621</td>\n",
       "      <td>485487.0</td>\n",
       "      <td>732.0</td>\n",
       "      <td>2</td>\n",
       "      <td>3504535</td>\n",
       "      <td>159701</td>\n",
       "    </tr>\n",
       "    <tr>\n",
       "      <th>2</th>\n",
       "      <td>5114</td>\n",
       "      <td>Fullmetal Alchemist: Brotherhood</td>\n",
       "      <td>Hagane no Renkinjutsushi Fullmetal Alchemist, ...</td>\n",
       "      <td>鋼の錬金術師 FULLMETAL ALCHEMIST</td>\n",
       "      <td>Fullmetal Alchemist Brotherhood</td>\n",
       "      <td>After a horrific alchemy experiment goes wrong...</td>\n",
       "      <td>TV</td>\n",
       "      <td>64.0</td>\n",
       "      <td>Finished Airing</td>\n",
       "      <td>Apr 5, 2009</td>\n",
       "      <td>...</td>\n",
       "      <td>Military</td>\n",
       "      <td>Shounen</td>\n",
       "      <td>24.0</td>\n",
       "      <td>R - 17+ (violence &amp; profanity)</td>\n",
       "      <td>9.131</td>\n",
       "      <td>900398.0</td>\n",
       "      <td>12.0</td>\n",
       "      <td>3</td>\n",
       "      <td>2978455</td>\n",
       "      <td>207772</td>\n",
       "    </tr>\n",
       "    <tr>\n",
       "      <th>3</th>\n",
       "      <td>30276</td>\n",
       "      <td>One Punch Man</td>\n",
       "      <td>One Punch-Man, One-Punch Man, OPM</td>\n",
       "      <td>ワンパンマン</td>\n",
       "      <td>One Punch Man</td>\n",
       "      <td>The seemingly unimpressive Saitama has a rathe...</td>\n",
       "      <td>TV</td>\n",
       "      <td>12.0</td>\n",
       "      <td>Finished Airing</td>\n",
       "      <td>Oct 5, 2015</td>\n",
       "      <td>...</td>\n",
       "      <td>Parody, Super Power</td>\n",
       "      <td>Seinen</td>\n",
       "      <td>24.0</td>\n",
       "      <td>R - 17+ (violence &amp; profanity)</td>\n",
       "      <td>8.511</td>\n",
       "      <td>19066.0</td>\n",
       "      <td>1112.0</td>\n",
       "      <td>4</td>\n",
       "      <td>2879907</td>\n",
       "      <td>59651</td>\n",
       "    </tr>\n",
       "    <tr>\n",
       "      <th>4</th>\n",
       "      <td>11757</td>\n",
       "      <td>Sword Art Online</td>\n",
       "      <td>S.A.O, SAO</td>\n",
       "      <td>ソードアート・オンライン</td>\n",
       "      <td>Sword Art Online</td>\n",
       "      <td>Ever since the release of the innovative Nerve...</td>\n",
       "      <td>TV</td>\n",
       "      <td>25.0</td>\n",
       "      <td>Finished Airing</td>\n",
       "      <td>Jul 8, 2012</td>\n",
       "      <td>...</td>\n",
       "      <td>Love Polygon, Video Game</td>\n",
       "      <td>Unknown</td>\n",
       "      <td>23.0</td>\n",
       "      <td>PG-13 - Teens 13 or older</td>\n",
       "      <td>7.201</td>\n",
       "      <td>990254.0</td>\n",
       "      <td>29562.0</td>\n",
       "      <td>5</td>\n",
       "      <td>2813565</td>\n",
       "      <td>64997</td>\n",
       "    </tr>\n",
       "  </tbody>\n",
       "</table>\n",
       "<p>5 rows × 28 columns</p>\n",
       "</div>"
      ],
      "text/plain": [
       "      ID                             Title  \\\n",
       "0  16498                Shingeki no Kyojin   \n",
       "1   1535                        Death Note   \n",
       "2   5114  Fullmetal Alchemist: Brotherhood   \n",
       "3  30276                     One Punch Man   \n",
       "4  11757                  Sword Art Online   \n",
       "\n",
       "                                            Synonyms  \\\n",
       "0                                           AoT, SnK   \n",
       "1                                                 DN   \n",
       "2  Hagane no Renkinjutsushi Fullmetal Alchemist, ...   \n",
       "3                  One Punch-Man, One-Punch Man, OPM   \n",
       "4                                         S.A.O, SAO   \n",
       "\n",
       "                     Japanese                          English  \\\n",
       "0                       進撃の巨人                  Attack on Titan   \n",
       "1                       デスノート                       Death Note   \n",
       "2  鋼の錬金術師 FULLMETAL ALCHEMIST  Fullmetal Alchemist Brotherhood   \n",
       "3                      ワンパンマン                    One Punch Man   \n",
       "4                ソードアート・オンライン                 Sword Art Online   \n",
       "\n",
       "                                            Synopsis Type  Episodes  \\\n",
       "0  Centuries ago, mankind was slaughtered to near...   TV      25.0   \n",
       "1  Brutal murders, petty thefts, and senseless vi...   TV      37.0   \n",
       "2  After a horrific alchemy experiment goes wrong...   TV      64.0   \n",
       "3  The seemingly unimpressive Saitama has a rathe...   TV      12.0   \n",
       "4  Ever since the release of the innovative Nerve...   TV      25.0   \n",
       "\n",
       "            Status  Start_Aired  ...                    Themes Demographics  \\\n",
       "0  Finished Airing  Apr 7, 2013  ...  Gore, Military, Survival      Shounen   \n",
       "1  Finished Airing  Oct 4, 2006  ...             Psychological      Shounen   \n",
       "2  Finished Airing  Apr 5, 2009  ...                  Military      Shounen   \n",
       "3  Finished Airing  Oct 5, 2015  ...       Parody, Super Power       Seinen   \n",
       "4  Finished Airing  Jul 8, 2012  ...  Love Polygon, Video Game      Unknown   \n",
       "\n",
       "  Duration_Minutes                          Rating  Score Scored_Users  \\\n",
       "0             24.0  R - 17+ (violence & profanity)  8.531     519803.0   \n",
       "1             23.0  R - 17+ (violence & profanity)  8.621     485487.0   \n",
       "2             24.0  R - 17+ (violence & profanity)  9.131     900398.0   \n",
       "3             24.0  R - 17+ (violence & profanity)  8.511      19066.0   \n",
       "4             23.0       PG-13 - Teens 13 or older  7.201     990254.0   \n",
       "\n",
       "    Ranked Popularity  Members Favorites  \n",
       "0   1002.0          1  3524109    155695  \n",
       "1    732.0          2  3504535    159701  \n",
       "2     12.0          3  2978455    207772  \n",
       "3   1112.0          4  2879907     59651  \n",
       "4  29562.0          5  2813565     64997  \n",
       "\n",
       "[5 rows x 28 columns]"
      ]
     },
     "execution_count": 4,
     "metadata": {},
     "output_type": "execute_result"
    }
   ],
   "source": [
    "df.head()"
   ]
  },
  {
   "cell_type": "code",
   "execution_count": 5,
   "metadata": {},
   "outputs": [
    {
     "data": {
      "text/plain": [
       "Index(['ID', 'Title', 'Synonyms', 'Japanese', 'English', 'Synopsis', 'Type',\n",
       "       'Episodes', 'Status', 'Start_Aired', 'End_Aired', 'Premiered',\n",
       "       'Broadcast', 'Producers', 'Licensors', 'Studios', 'Source', 'Genres',\n",
       "       'Themes', 'Demographics', 'Duration_Minutes', 'Rating', 'Score',\n",
       "       'Scored_Users', 'Ranked', 'Popularity', 'Members', 'Favorites'],\n",
       "      dtype='object')"
      ]
     },
     "execution_count": 5,
     "metadata": {},
     "output_type": "execute_result"
    }
   ],
   "source": [
    "df.columns"
   ]
  },
  {
   "cell_type": "markdown",
   "metadata": {},
   "source": [
    "**Columns explaination:**\n",
    "- Broadcast: The day and time of the week that the anime is broadcast\n",
    "- Score: The average score on MyAnimeList\n",
    "- Score_Users: Number of user that scored the anime\n",
    "- Members: The number of members of MyAnimeList who have added this anime to their list\n",
    "- Favourite: The number of members of this website who have added this anime to their favourites."
   ]
  },
  {
   "cell_type": "markdown",
   "metadata": {},
   "source": [
    "# **Data Cleaning**"
   ]
  },
  {
   "cell_type": "code",
   "execution_count": 6,
   "metadata": {},
   "outputs": [],
   "source": [
    "# Only keep columns that are relevant to the analysis\n",
    "df = df[['Title', 'English', 'Type', 'Episodes', 'Start_Aired', 'End_Aired', 'Status', 'Producers', 'Studios', 'Source', 'Genres',\n",
    "       'Themes', 'Demographics', 'Duration_Minutes', 'Rating', 'Score',\n",
    "       'Scored_Users', 'Ranked', 'Popularity', 'Members', 'Favorites']]"
   ]
  },
  {
   "cell_type": "code",
   "execution_count": 7,
   "metadata": {},
   "outputs": [],
   "source": [
    "# Parse multi-value fields into arrays\n",
    "# def parse_multi_value(field_value):\n",
    "#     array_value = field_value.split(',')\n",
    "#     if '' in array_value:\n",
    "#         return []\n",
    "#     return array_value\n",
    "\n",
    "# cols = ['Producers', 'Studios', 'Genres', 'Themes', 'Demographics']\n",
    "# for col in cols:\n",
    "#     df[col] = df[col].apply(parse_multi_value)"
   ]
  },
  {
   "cell_type": "markdown",
   "metadata": {},
   "source": [
    "### **Cleaning null values**"
   ]
  },
  {
   "cell_type": "code",
   "execution_count": 8,
   "metadata": {},
   "outputs": [
    {
     "data": {
      "text/plain": [
       "Title                  0\n",
       "English                0\n",
       "Type                   0\n",
       "Episodes             547\n",
       "Start_Aired            0\n",
       "End_Aired              0\n",
       "Status                 0\n",
       "Producers              0\n",
       "Studios                0\n",
       "Source                 0\n",
       "Genres                 0\n",
       "Themes                 0\n",
       "Demographics           0\n",
       "Duration_Minutes     599\n",
       "Rating               545\n",
       "Score               6898\n",
       "Scored_Users        6898\n",
       "Ranked              1924\n",
       "Popularity             0\n",
       "Members                0\n",
       "Favorites              0\n",
       "dtype: int64"
      ]
     },
     "execution_count": 8,
     "metadata": {},
     "output_type": "execute_result"
    }
   ],
   "source": [
    "df.isnull().sum()"
   ]
  },
  {
   "cell_type": "markdown",
   "metadata": {},
   "source": [
    "#### 1. Cleaning null Episodes values"
   ]
  },
  {
   "cell_type": "code",
   "execution_count": 9,
   "metadata": {},
   "outputs": [
    {
     "data": {
      "text/plain": [
       "Status\n",
       "Not yet aired       328\n",
       "Currently Airing    212\n",
       "Finished Airing       7\n",
       "Name: count, dtype: int64"
      ]
     },
     "execution_count": 9,
     "metadata": {},
     "output_type": "execute_result"
    }
   ],
   "source": [
    "# Checing if animes that has null Episodes value has the status \"Not yet aired\" or \"Currently Airing\" or not\n",
    "df[df['Episodes'].isnull()]['Status'].value_counts()"
   ]
  },
  {
   "cell_type": "code",
   "execution_count": 10,
   "metadata": {},
   "outputs": [
    {
     "data": {
      "text/html": [
       "<div>\n",
       "<style scoped>\n",
       "    .dataframe tbody tr th:only-of-type {\n",
       "        vertical-align: middle;\n",
       "    }\n",
       "\n",
       "    .dataframe tbody tr th {\n",
       "        vertical-align: top;\n",
       "    }\n",
       "\n",
       "    .dataframe thead th {\n",
       "        text-align: right;\n",
       "    }\n",
       "</style>\n",
       "<table border=\"1\" class=\"dataframe\">\n",
       "  <thead>\n",
       "    <tr style=\"text-align: right;\">\n",
       "      <th></th>\n",
       "      <th>Title</th>\n",
       "      <th>English</th>\n",
       "      <th>Type</th>\n",
       "      <th>Episodes</th>\n",
       "      <th>Start_Aired</th>\n",
       "      <th>End_Aired</th>\n",
       "      <th>Status</th>\n",
       "      <th>Producers</th>\n",
       "      <th>Studios</th>\n",
       "      <th>Source</th>\n",
       "      <th>...</th>\n",
       "      <th>Themes</th>\n",
       "      <th>Demographics</th>\n",
       "      <th>Duration_Minutes</th>\n",
       "      <th>Rating</th>\n",
       "      <th>Score</th>\n",
       "      <th>Scored_Users</th>\n",
       "      <th>Ranked</th>\n",
       "      <th>Popularity</th>\n",
       "      <th>Members</th>\n",
       "      <th>Favorites</th>\n",
       "    </tr>\n",
       "  </thead>\n",
       "  <tbody>\n",
       "    <tr>\n",
       "      <th>16167</th>\n",
       "      <td>Momoya Norihei Anime CM</td>\n",
       "      <td>Unknown</td>\n",
       "      <td>Special</td>\n",
       "      <td>NaN</td>\n",
       "      <td>1958</td>\n",
       "      <td>2012</td>\n",
       "      <td>Finished Airing</td>\n",
       "      <td>Unknown</td>\n",
       "      <td>Unknown</td>\n",
       "      <td>Original</td>\n",
       "      <td>...</td>\n",
       "      <td>Parody</td>\n",
       "      <td>Unknown</td>\n",
       "      <td>30.0</td>\n",
       "      <td>G - All Ages</td>\n",
       "      <td>NaN</td>\n",
       "      <td>NaN</td>\n",
       "      <td>135772.0</td>\n",
       "      <td>16192</td>\n",
       "      <td>285</td>\n",
       "      <td>0</td>\n",
       "    </tr>\n",
       "    <tr>\n",
       "      <th>16802</th>\n",
       "      <td>Koishite!! Namashi-chan</td>\n",
       "      <td>Unknown</td>\n",
       "      <td>TV</td>\n",
       "      <td>NaN</td>\n",
       "      <td>Jan 3, 2015</td>\n",
       "      <td>Unknown</td>\n",
       "      <td>Finished Airing</td>\n",
       "      <td>Unknown</td>\n",
       "      <td>Kachidoki Studio</td>\n",
       "      <td>Original</td>\n",
       "      <td>...</td>\n",
       "      <td>Unknown</td>\n",
       "      <td>Kids</td>\n",
       "      <td>1.0</td>\n",
       "      <td>G - All Ages</td>\n",
       "      <td>NaN</td>\n",
       "      <td>NaN</td>\n",
       "      <td>192892.0</td>\n",
       "      <td>16827</td>\n",
       "      <td>241</td>\n",
       "      <td>0</td>\n",
       "    </tr>\n",
       "    <tr>\n",
       "      <th>16863</th>\n",
       "      <td>Burutabu-chan</td>\n",
       "      <td>Unknown</td>\n",
       "      <td>TV</td>\n",
       "      <td>NaN</td>\n",
       "      <td>Unknown</td>\n",
       "      <td>Not Available</td>\n",
       "      <td>Finished Airing</td>\n",
       "      <td>Fuji TV</td>\n",
       "      <td>Unknown</td>\n",
       "      <td>Original</td>\n",
       "      <td>...</td>\n",
       "      <td>Unknown</td>\n",
       "      <td>Unknown</td>\n",
       "      <td>10.0</td>\n",
       "      <td>PG-13 - Teens 13 or older</td>\n",
       "      <td>NaN</td>\n",
       "      <td>NaN</td>\n",
       "      <td>172082.0</td>\n",
       "      <td>16887</td>\n",
       "      <td>237</td>\n",
       "      <td>0</td>\n",
       "    </tr>\n",
       "    <tr>\n",
       "      <th>17473</th>\n",
       "      <td>Konna Ko Iru kana</td>\n",
       "      <td>Unknown</td>\n",
       "      <td>TV</td>\n",
       "      <td>NaN</td>\n",
       "      <td>Apr 1986</td>\n",
       "      <td>Mar 1991</td>\n",
       "      <td>Finished Airing</td>\n",
       "      <td>NHK</td>\n",
       "      <td>Unknown</td>\n",
       "      <td>Unknown</td>\n",
       "      <td>...</td>\n",
       "      <td>Unknown</td>\n",
       "      <td>Kids</td>\n",
       "      <td>1.0</td>\n",
       "      <td>PG - Children</td>\n",
       "      <td>NaN</td>\n",
       "      <td>NaN</td>\n",
       "      <td>193282.0</td>\n",
       "      <td>17497</td>\n",
       "      <td>203</td>\n",
       "      <td>0</td>\n",
       "    </tr>\n",
       "    <tr>\n",
       "      <th>19438</th>\n",
       "      <td>Bobble Bobble Cook</td>\n",
       "      <td>Bobble Bobble Cook</td>\n",
       "      <td>TV</td>\n",
       "      <td>NaN</td>\n",
       "      <td>Mar 2010</td>\n",
       "      <td>Oct 2012</td>\n",
       "      <td>Finished Airing</td>\n",
       "      <td>Unknown</td>\n",
       "      <td>Unknown</td>\n",
       "      <td>Original</td>\n",
       "      <td>...</td>\n",
       "      <td>Unknown</td>\n",
       "      <td>Kids</td>\n",
       "      <td>23.0</td>\n",
       "      <td>PG - Children</td>\n",
       "      <td>NaN</td>\n",
       "      <td>NaN</td>\n",
       "      <td>171182.0</td>\n",
       "      <td>19465</td>\n",
       "      <td>76</td>\n",
       "      <td>0</td>\n",
       "    </tr>\n",
       "    <tr>\n",
       "      <th>19781</th>\n",
       "      <td>Jouiseon-in</td>\n",
       "      <td>Warriors in Black</td>\n",
       "      <td>TV</td>\n",
       "      <td>NaN</td>\n",
       "      <td>2008</td>\n",
       "      <td>Unknown</td>\n",
       "      <td>Finished Airing</td>\n",
       "      <td>Unknown</td>\n",
       "      <td>Unknown</td>\n",
       "      <td>Original</td>\n",
       "      <td>...</td>\n",
       "      <td>Unknown</td>\n",
       "      <td>Kids</td>\n",
       "      <td>13.0</td>\n",
       "      <td>G - All Ages</td>\n",
       "      <td>NaN</td>\n",
       "      <td>NaN</td>\n",
       "      <td>188472.0</td>\n",
       "      <td>19809</td>\n",
       "      <td>57</td>\n",
       "      <td>0</td>\n",
       "    </tr>\n",
       "    <tr>\n",
       "      <th>20179</th>\n",
       "      <td>Super Talk Talk</td>\n",
       "      <td>Super Talk Talk</td>\n",
       "      <td>TV</td>\n",
       "      <td>NaN</td>\n",
       "      <td>Unknown</td>\n",
       "      <td>Not Available</td>\n",
       "      <td>Finished Airing</td>\n",
       "      <td>Unknown</td>\n",
       "      <td>Unknown</td>\n",
       "      <td>Original</td>\n",
       "      <td>...</td>\n",
       "      <td>Unknown</td>\n",
       "      <td>Kids</td>\n",
       "      <td>14.0</td>\n",
       "      <td>PG - Children</td>\n",
       "      <td>NaN</td>\n",
       "      <td>NaN</td>\n",
       "      <td>153282.0</td>\n",
       "      <td>20207</td>\n",
       "      <td>48</td>\n",
       "      <td>0</td>\n",
       "    </tr>\n",
       "  </tbody>\n",
       "</table>\n",
       "<p>7 rows × 21 columns</p>\n",
       "</div>"
      ],
      "text/plain": [
       "                         Title             English     Type  Episodes  \\\n",
       "16167  Momoya Norihei Anime CM             Unknown  Special       NaN   \n",
       "16802  Koishite!! Namashi-chan             Unknown       TV       NaN   \n",
       "16863            Burutabu-chan             Unknown       TV       NaN   \n",
       "17473        Konna Ko Iru kana             Unknown       TV       NaN   \n",
       "19438       Bobble Bobble Cook  Bobble Bobble Cook       TV       NaN   \n",
       "19781              Jouiseon-in   Warriors in Black       TV       NaN   \n",
       "20179          Super Talk Talk     Super Talk Talk       TV       NaN   \n",
       "\n",
       "       Start_Aired      End_Aired           Status Producers  \\\n",
       "16167         1958           2012  Finished Airing   Unknown   \n",
       "16802  Jan 3, 2015        Unknown  Finished Airing   Unknown   \n",
       "16863      Unknown  Not Available  Finished Airing   Fuji TV   \n",
       "17473     Apr 1986       Mar 1991  Finished Airing       NHK   \n",
       "19438     Mar 2010       Oct 2012  Finished Airing   Unknown   \n",
       "19781         2008        Unknown  Finished Airing   Unknown   \n",
       "20179      Unknown  Not Available  Finished Airing   Unknown   \n",
       "\n",
       "                Studios    Source  ...   Themes Demographics Duration_Minutes  \\\n",
       "16167           Unknown  Original  ...   Parody      Unknown             30.0   \n",
       "16802  Kachidoki Studio  Original  ...  Unknown         Kids              1.0   \n",
       "16863           Unknown  Original  ...  Unknown      Unknown             10.0   \n",
       "17473           Unknown   Unknown  ...  Unknown         Kids              1.0   \n",
       "19438           Unknown  Original  ...  Unknown         Kids             23.0   \n",
       "19781           Unknown  Original  ...  Unknown         Kids             13.0   \n",
       "20179           Unknown  Original  ...  Unknown         Kids             14.0   \n",
       "\n",
       "                          Rating Score  Scored_Users    Ranked  Popularity  \\\n",
       "16167               G - All Ages   NaN           NaN  135772.0       16192   \n",
       "16802               G - All Ages   NaN           NaN  192892.0       16827   \n",
       "16863  PG-13 - Teens 13 or older   NaN           NaN  172082.0       16887   \n",
       "17473              PG - Children   NaN           NaN  193282.0       17497   \n",
       "19438              PG - Children   NaN           NaN  171182.0       19465   \n",
       "19781               G - All Ages   NaN           NaN  188472.0       19809   \n",
       "20179              PG - Children   NaN           NaN  153282.0       20207   \n",
       "\n",
       "       Members  Favorites  \n",
       "16167      285          0  \n",
       "16802      241          0  \n",
       "16863      237          0  \n",
       "17473      203          0  \n",
       "19438       76          0  \n",
       "19781       57          0  \n",
       "20179       48          0  \n",
       "\n",
       "[7 rows x 21 columns]"
      ]
     },
     "execution_count": 10,
     "metadata": {},
     "output_type": "execute_result"
    }
   ],
   "source": [
    "# Check the animes that has null Episodes value and has the status \"Finished Airing\"\n",
    "df[df['Episodes'].isnull() & (df['Status'] == 'Finished Airing')]"
   ]
  },
  {
   "cell_type": "markdown",
   "metadata": {},
   "source": [
    "These values are really weird, as I can't find the number episodes of these animes, despite their status is \"Finished Airing\". Hence, I've come up with the decision of deleting these values, as there's only seven of these anyway."
   ]
  },
  {
   "cell_type": "code",
   "execution_count": 11,
   "metadata": {},
   "outputs": [],
   "source": [
    "# Drop rows where 'Episodes' is null and 'Status' is 'Finished Airing'\n",
    "df = df[~(df['Episodes'].isnull() & (df['Status'] == 'Finished Airing'))]"
   ]
  },
  {
   "cell_type": "markdown",
   "metadata": {},
   "source": [
    "Regarding other null Episodes value, I will fill those values with the median episodes of their respective type (TV, Movie, etc)."
   ]
  },
  {
   "cell_type": "code",
   "execution_count": 12,
   "metadata": {},
   "outputs": [],
   "source": [
    "df['Episodes'].fillna(df.groupby('Type')['Episodes'].transform('median'), inplace = True)"
   ]
  },
  {
   "cell_type": "markdown",
   "metadata": {},
   "source": [
    "#### 2. Cleaning null Duration null values"
   ]
  },
  {
   "cell_type": "code",
   "execution_count": 13,
   "metadata": {},
   "outputs": [],
   "source": [
    "# Do the same thing for 'Duration_Minutes' column\n",
    "df['Duration_Minutes'].fillna(df.groupby('Type')['Duration_Minutes'].transform('median'), inplace = True)"
   ]
  },
  {
   "cell_type": "markdown",
   "metadata": {},
   "source": [
    "#### 3. Cleaning Rating null values"
   ]
  },
  {
   "cell_type": "code",
   "execution_count": 14,
   "metadata": {},
   "outputs": [],
   "source": [
    "df['Rating'].fillna('Unknown', inplace = True)"
   ]
  },
  {
   "cell_type": "markdown",
   "metadata": {},
   "source": [
    "#### 4. Cleaning Score and Scored_Users null values"
   ]
  },
  {
   "cell_type": "markdown",
   "metadata": {},
   "source": [
    "We can see that the number of null values of these two columns are the same, indicating that when Score is null, Scored_Users is also null, and vice versa. These rows likely represent anime that have not received any ratings. \n",
    "\n",
    "Given this, an approach could be considered is to fill the null values of Score with median valuee, and 0 for Scored_Users. Also, let's create a column indicating that an anime was scored or not."
   ]
  },
  {
   "cell_type": "code",
   "execution_count": 15,
   "metadata": {},
   "outputs": [],
   "source": [
    "df['Missing_Score'] = df['Score'].isnull().map({True: 1, False: 0})\n",
    "df['Score'].fillna(df['Score'].median(), inplace = True)\n",
    "df['Scored_Users'].fillna(0, inplace = True)"
   ]
  },
  {
   "cell_type": "markdown",
   "metadata": {},
   "source": [
    "#### 5. Cleaning Ranked null values"
   ]
  },
  {
   "cell_type": "code",
   "execution_count": 16,
   "metadata": {},
   "outputs": [],
   "source": [
    "# For the ranking, we will just put a very high number to indicate that the anime is not ranked\n",
    "df['Ranked'].fillna(200000, inplace = True)"
   ]
  },
  {
   "cell_type": "code",
   "execution_count": 17,
   "metadata": {},
   "outputs": [
    {
     "data": {
      "text/plain": [
       "Title               0\n",
       "English             0\n",
       "Type                0\n",
       "Episodes            0\n",
       "Start_Aired         0\n",
       "End_Aired           0\n",
       "Status              0\n",
       "Producers           0\n",
       "Studios             0\n",
       "Source              0\n",
       "Genres              0\n",
       "Themes              0\n",
       "Demographics        0\n",
       "Duration_Minutes    0\n",
       "Rating              0\n",
       "Score               0\n",
       "Scored_Users        0\n",
       "Ranked              0\n",
       "Popularity          0\n",
       "Members             0\n",
       "Favorites           0\n",
       "Missing_Score       0\n",
       "dtype: int64"
      ]
     },
     "execution_count": 17,
     "metadata": {},
     "output_type": "execute_result"
    }
   ],
   "source": [
    "df.isnull().sum()"
   ]
  },
  {
   "cell_type": "markdown",
   "metadata": {},
   "source": [
    "### **Handling Start_Aired and End_Aired data**\n",
    "After some thorough inspection of the dataset, the date formatting is inconsistent throughout the dataset. \n",
    "- DD/MM/YYYY\n",
    "- Month DD, YYYY\n",
    "- YYYY\n",
    "\n",
    "To use these dates effectively I need to standardize them into a single format. Let's try to take the year only.\n"
   ]
  },
  {
   "cell_type": "code",
   "execution_count": 18,
   "metadata": {},
   "outputs": [
    {
     "name": "stdout",
     "output_type": "stream",
     "text": [
      "[2013. 2006. 2009. 2015. 2012. 2016. 2002. 2014. 2019. 2011. 2017. 2007.\n",
      " 2018. 2008. 2020. 1999. 2010. 2004. 1998. 2001. 1995. 2003. 1997. 1989.\n",
      " 2021. 2022. 1988. 1986. 2005. 2000. 1992. 1996. 1984. 1993.   nan 2023.\n",
      " 1994. 1991. 1985. 1990. 1979. 1982. 1971. 1983. 1970. 1981. 1987. 1978.\n",
      " 1980. 1973. 1974. 1977. 1972. 1976. 1969. 1967. 1963. 1975. 1917. 1961.\n",
      " 1968. 1965. 1958. 1962. 1964. 1966. 1931. 1929. 1960. 1918. 1945. 1930.\n",
      " 1943. 1956. 1957. 1959. 1947. 1928. 1926. 1934. 1932. 1935. 1933. 1924.\n",
      " 1952. 1948. 1938. 1936. 1927. 1925. 1946. 1942. 1940. 1941. 1950. 1944.\n",
      " 1939. 1937. 1949. 1954. 1953. 1955. 1951.]\n",
      "Aired_Year_Missing\n",
      "0    20982\n",
      "1      471\n",
      "Name: count, dtype: int64\n",
      "[2013. 2007. 2010. 2015. 2012. 2016. 2014. 2019.   nan 2017. 2011. 2018.\n",
      " 2009. 2021. 1999. 2008. 1996. 2020. 2004. 2005. 2006. 2022. 1989. 2001.\n",
      " 2000. 1998. 2002. 1995. 1997. 2003. 1993. 1992. 1994. 1987. 1980. 1983.\n",
      " 1972. 1986. 1971. 1988. 1991. 1978. 1981. 1990. 1979. 1974. 1973. 1985.\n",
      " 1975. 1984. 1969. 1968. 1982. 1966. 1977. 1976. 1970. 2023. 1967. 1965.\n",
      " 1964. 1962.]\n",
      "End_Year_Missing\n",
      "0    21453\n",
      "Name: count, dtype: int64\n"
     ]
    }
   ],
   "source": [
    "def extract_year(date_str):\n",
    "    if pd.isna(date_str):\n",
    "        return None\n",
    "    \n",
    "    match = re.search(r'\\d{4}', str(date_str))\n",
    "    if match:\n",
    "        return int(match.group(0))\n",
    "    else:\n",
    "        return None  \n",
    "\n",
    "df['Aired_Year'] = df['Start_Aired'].apply(extract_year)\n",
    "df['Aired_Year_Missing'] = df['Aired_Year'].isnull().astype(int)\n",
    "\n",
    "df['End_Year'] = df['End_Aired'].apply(extract_year)\n",
    "df['End_Year_Missing'] = df['End_Aired'].isnull().astype(int)\n",
    "\n",
    "#Verify the results.\n",
    "print(df['Aired_Year'].unique())\n",
    "print(df['Aired_Year_Missing'].value_counts())\n",
    "\n",
    "print(df['End_Year'].unique())\n",
    "print(df['End_Year_Missing'].value_counts())"
   ]
  },
  {
   "cell_type": "code",
   "execution_count": 19,
   "metadata": {},
   "outputs": [],
   "source": [
    "# The result was great. Hence, we could now drop the 'Start_Aired' column\n",
    "df.drop('Start_Aired', axis=1, inplace=True)\n",
    "df.drop('End_Aired', axis=1, inplace=True)"
   ]
  },
  {
   "cell_type": "code",
   "execution_count": 20,
   "metadata": {},
   "outputs": [],
   "source": [
    "# Handle Aired and End Year\n",
    "df['Aired_Year'].fillna(df['Aired_Year'].median(), inplace=True)\n",
    "df['End_Year'].fillna(df['End_Year'].median(), inplace=True)"
   ]
  },
  {
   "cell_type": "code",
   "execution_count": 21,
   "metadata": {},
   "outputs": [
    {
     "data": {
      "text/plain": [
       "Title                 0\n",
       "English               0\n",
       "Type                  0\n",
       "Episodes              0\n",
       "Status                0\n",
       "Producers             0\n",
       "Studios               0\n",
       "Source                0\n",
       "Genres                0\n",
       "Themes                0\n",
       "Demographics          0\n",
       "Duration_Minutes      0\n",
       "Rating                0\n",
       "Score                 0\n",
       "Scored_Users          0\n",
       "Ranked                0\n",
       "Popularity            0\n",
       "Members               0\n",
       "Favorites             0\n",
       "Missing_Score         0\n",
       "Aired_Year            0\n",
       "Aired_Year_Missing    0\n",
       "End_Year              0\n",
       "End_Year_Missing      0\n",
       "dtype: int64"
      ]
     },
     "execution_count": 21,
     "metadata": {},
     "output_type": "execute_result"
    }
   ],
   "source": [
    "df.isnull().sum()"
   ]
  },
  {
   "cell_type": "markdown",
   "metadata": {},
   "source": [
    "The dataset is looking great now I will export this to a csv and continue with visualizations in Power BI"
   ]
  },
  {
   "cell_type": "code",
   "execution_count": 22,
   "metadata": {},
   "outputs": [],
   "source": [
    "df.to_csv('Anime_cleaned.csv', index=False)"
   ]
  },
  {
   "cell_type": "code",
   "execution_count": 23,
   "metadata": {},
   "outputs": [],
   "source": [
    "df_copy = df.copy()"
   ]
  }
 ],
 "metadata": {
  "kernelspec": {
   "display_name": "Python 3",
   "language": "python",
   "name": "python3"
  },
  "language_info": {
   "codemirror_mode": {
    "name": "ipython",
    "version": 3
   },
   "file_extension": ".py",
   "mimetype": "text/x-python",
   "name": "python",
   "nbconvert_exporter": "python",
   "pygments_lexer": "ipython3",
   "version": "3.11.9"
  }
 },
 "nbformat": 4,
 "nbformat_minor": 2
}
